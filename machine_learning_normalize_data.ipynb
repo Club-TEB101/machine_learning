{
 "cells": [
  {
   "cell_type": "code",
   "execution_count": 16,
   "metadata": {},
   "outputs": [],
   "source": [
    "import pandas as pd\n",
    "from sklearn.ensemble import RandomForestClassifier\n",
    "import matplotlib.pyplot as plt"
   ]
  },
  {
   "cell_type": "code",
   "execution_count": 17,
   "metadata": {},
   "outputs": [
    {
     "data": {
      "text/html": [
       "<div>\n",
       "<style scoped>\n",
       "    .dataframe tbody tr th:only-of-type {\n",
       "        vertical-align: middle;\n",
       "    }\n",
       "\n",
       "    .dataframe tbody tr th {\n",
       "        vertical-align: top;\n",
       "    }\n",
       "\n",
       "    .dataframe thead th {\n",
       "        text-align: right;\n",
       "    }\n",
       "</style>\n",
       "<table border=\"1\" class=\"dataframe\">\n",
       "  <thead>\n",
       "    <tr style=\"text-align: right;\">\n",
       "      <th></th>\n",
       "      <th>sID</th>\n",
       "      <th>buy_date</th>\n",
       "      <th>buy_price</th>\n",
       "      <th>sell_date</th>\n",
       "      <th>sell_price</th>\n",
       "      <th>season</th>\n",
       "      <th>A1</th>\n",
       "      <th>A2</th>\n",
       "      <th>A3</th>\n",
       "      <th>A4</th>\n",
       "      <th>...</th>\n",
       "      <th>C6</th>\n",
       "      <th>C7</th>\n",
       "      <th>C8</th>\n",
       "      <th>D1</th>\n",
       "      <th>D2</th>\n",
       "      <th>D3</th>\n",
       "      <th>D4</th>\n",
       "      <th>D5</th>\n",
       "      <th>EPS</th>\n",
       "      <th>profit</th>\n",
       "    </tr>\n",
       "  </thead>\n",
       "  <tbody>\n",
       "    <tr>\n",
       "      <th>0</th>\n",
       "      <td>1101</td>\n",
       "      <td>2020-01-02</td>\n",
       "      <td>44.10</td>\n",
       "      <td>2020-03-31</td>\n",
       "      <td>39.50</td>\n",
       "      <td>2020_Q1</td>\n",
       "      <td>0.0</td>\n",
       "      <td>1.24</td>\n",
       "      <td>2.15</td>\n",
       "      <td>0.96</td>\n",
       "      <td>...</td>\n",
       "      <td>0.02</td>\n",
       "      <td>0.04</td>\n",
       "      <td>0.16</td>\n",
       "      <td>-1.34</td>\n",
       "      <td>-13.33</td>\n",
       "      <td>-11.38</td>\n",
       "      <td>-108.76</td>\n",
       "      <td>-0.02</td>\n",
       "      <td>0.53</td>\n",
       "      <td>0.895692</td>\n",
       "    </tr>\n",
       "    <tr>\n",
       "      <th>1</th>\n",
       "      <td>1102</td>\n",
       "      <td>2020-01-02</td>\n",
       "      <td>48.90</td>\n",
       "      <td>2020-03-31</td>\n",
       "      <td>39.40</td>\n",
       "      <td>2020_Q1</td>\n",
       "      <td>0.0</td>\n",
       "      <td>0.67</td>\n",
       "      <td>1.22</td>\n",
       "      <td>0.38</td>\n",
       "      <td>...</td>\n",
       "      <td>0.02</td>\n",
       "      <td>0.03</td>\n",
       "      <td>0.17</td>\n",
       "      <td>-0.08</td>\n",
       "      <td>-32.22</td>\n",
       "      <td>-46.49</td>\n",
       "      <td>-151.79</td>\n",
       "      <td>0.06</td>\n",
       "      <td>0.24</td>\n",
       "      <td>0.805726</td>\n",
       "    </tr>\n",
       "    <tr>\n",
       "      <th>2</th>\n",
       "      <td>1103</td>\n",
       "      <td>2020-01-02</td>\n",
       "      <td>22.35</td>\n",
       "      <td>2020-03-31</td>\n",
       "      <td>15.15</td>\n",
       "      <td>2020_Q1</td>\n",
       "      <td>0.0</td>\n",
       "      <td>-0.43</td>\n",
       "      <td>-0.72</td>\n",
       "      <td>-0.60</td>\n",
       "      <td>...</td>\n",
       "      <td>0.00</td>\n",
       "      <td>0.01</td>\n",
       "      <td>0.06</td>\n",
       "      <td>1.45</td>\n",
       "      <td>9.50</td>\n",
       "      <td>183.93</td>\n",
       "      <td>-197.75</td>\n",
       "      <td>0.08</td>\n",
       "      <td>-0.33</td>\n",
       "      <td>0.677852</td>\n",
       "    </tr>\n",
       "    <tr>\n",
       "      <th>3</th>\n",
       "      <td>1104</td>\n",
       "      <td>2020-01-02</td>\n",
       "      <td>19.65</td>\n",
       "      <td>2020-03-31</td>\n",
       "      <td>15.80</td>\n",
       "      <td>2020_Q1</td>\n",
       "      <td>0.0</td>\n",
       "      <td>0.30</td>\n",
       "      <td>0.38</td>\n",
       "      <td>0.21</td>\n",
       "      <td>...</td>\n",
       "      <td>0.02</td>\n",
       "      <td>0.04</td>\n",
       "      <td>0.14</td>\n",
       "      <td>-3.09</td>\n",
       "      <td>5.60</td>\n",
       "      <td>566.06</td>\n",
       "      <td>-205.50</td>\n",
       "      <td>-0.01</td>\n",
       "      <td>0.07</td>\n",
       "      <td>0.804071</td>\n",
       "    </tr>\n",
       "    <tr>\n",
       "      <th>4</th>\n",
       "      <td>1108</td>\n",
       "      <td>2020-01-02</td>\n",
       "      <td>8.37</td>\n",
       "      <td>2020-03-31</td>\n",
       "      <td>6.31</td>\n",
       "      <td>2020_Q1</td>\n",
       "      <td>0.0</td>\n",
       "      <td>1.47</td>\n",
       "      <td>2.54</td>\n",
       "      <td>1.25</td>\n",
       "      <td>...</td>\n",
       "      <td>0.12</td>\n",
       "      <td>0.10</td>\n",
       "      <td>0.43</td>\n",
       "      <td>3.09</td>\n",
       "      <td>32.41</td>\n",
       "      <td>-517.78</td>\n",
       "      <td>-734.99</td>\n",
       "      <td>0.00</td>\n",
       "      <td>0.23</td>\n",
       "      <td>0.753883</td>\n",
       "    </tr>\n",
       "    <tr>\n",
       "      <th>...</th>\n",
       "      <td>...</td>\n",
       "      <td>...</td>\n",
       "      <td>...</td>\n",
       "      <td>...</td>\n",
       "      <td>...</td>\n",
       "      <td>...</td>\n",
       "      <td>...</td>\n",
       "      <td>...</td>\n",
       "      <td>...</td>\n",
       "      <td>...</td>\n",
       "      <td>...</td>\n",
       "      <td>...</td>\n",
       "      <td>...</td>\n",
       "      <td>...</td>\n",
       "      <td>...</td>\n",
       "      <td>...</td>\n",
       "      <td>...</td>\n",
       "      <td>...</td>\n",
       "      <td>...</td>\n",
       "      <td>...</td>\n",
       "      <td>...</td>\n",
       "    </tr>\n",
       "    <tr>\n",
       "      <th>7650</th>\n",
       "      <td>9943</td>\n",
       "      <td>2017-10-02</td>\n",
       "      <td>50.10</td>\n",
       "      <td>2017-12-29</td>\n",
       "      <td>52.50</td>\n",
       "      <td>2017_Q4</td>\n",
       "      <td>0.0</td>\n",
       "      <td>11.03</td>\n",
       "      <td>13.14</td>\n",
       "      <td>15.24</td>\n",
       "      <td>...</td>\n",
       "      <td>0.00</td>\n",
       "      <td>0.00</td>\n",
       "      <td>0.00</td>\n",
       "      <td>2.23</td>\n",
       "      <td>-0.81</td>\n",
       "      <td>-2.91</td>\n",
       "      <td>-0.69</td>\n",
       "      <td>0.01</td>\n",
       "      <td>4.75</td>\n",
       "      <td>1.047904</td>\n",
       "    </tr>\n",
       "    <tr>\n",
       "      <th>7651</th>\n",
       "      <td>9944</td>\n",
       "      <td>2017-10-02</td>\n",
       "      <td>18.50</td>\n",
       "      <td>2017-12-29</td>\n",
       "      <td>19.60</td>\n",
       "      <td>2017_Q4</td>\n",
       "      <td>0.0</td>\n",
       "      <td>1.37</td>\n",
       "      <td>2.39</td>\n",
       "      <td>1.05</td>\n",
       "      <td>...</td>\n",
       "      <td>0.00</td>\n",
       "      <td>0.00</td>\n",
       "      <td>0.00</td>\n",
       "      <td>-2.12</td>\n",
       "      <td>-7.86</td>\n",
       "      <td>-60.95</td>\n",
       "      <td>-46.44</td>\n",
       "      <td>0.00</td>\n",
       "      <td>0.42</td>\n",
       "      <td>1.059459</td>\n",
       "    </tr>\n",
       "    <tr>\n",
       "      <th>7652</th>\n",
       "      <td>9945</td>\n",
       "      <td>2017-10-02</td>\n",
       "      <td>28.30</td>\n",
       "      <td>2017-12-29</td>\n",
       "      <td>31.95</td>\n",
       "      <td>2017_Q4</td>\n",
       "      <td>0.0</td>\n",
       "      <td>0.99</td>\n",
       "      <td>1.97</td>\n",
       "      <td>12.67</td>\n",
       "      <td>...</td>\n",
       "      <td>0.00</td>\n",
       "      <td>0.00</td>\n",
       "      <td>0.00</td>\n",
       "      <td>44.89</td>\n",
       "      <td>-16.81</td>\n",
       "      <td>-43.94</td>\n",
       "      <td>318.11</td>\n",
       "      <td>0.34</td>\n",
       "      <td>6.90</td>\n",
       "      <td>1.128975</td>\n",
       "    </tr>\n",
       "    <tr>\n",
       "      <th>7653</th>\n",
       "      <td>9946</td>\n",
       "      <td>2017-10-02</td>\n",
       "      <td>10.85</td>\n",
       "      <td>2017-12-29</td>\n",
       "      <td>12.75</td>\n",
       "      <td>2017_Q4</td>\n",
       "      <td>0.0</td>\n",
       "      <td>3.04</td>\n",
       "      <td>6.73</td>\n",
       "      <td>3.72</td>\n",
       "      <td>...</td>\n",
       "      <td>0.00</td>\n",
       "      <td>0.00</td>\n",
       "      <td>0.00</td>\n",
       "      <td>5.60</td>\n",
       "      <td>-38.78</td>\n",
       "      <td>-32.34</td>\n",
       "      <td>-1.76</td>\n",
       "      <td>0.09</td>\n",
       "      <td>1.51</td>\n",
       "      <td>1.175115</td>\n",
       "    </tr>\n",
       "    <tr>\n",
       "      <th>7654</th>\n",
       "      <td>9958</td>\n",
       "      <td>2017-10-02</td>\n",
       "      <td>16.55</td>\n",
       "      <td>2017-12-29</td>\n",
       "      <td>21.20</td>\n",
       "      <td>2017_Q4</td>\n",
       "      <td>0.0</td>\n",
       "      <td>0.34</td>\n",
       "      <td>0.83</td>\n",
       "      <td>0.76</td>\n",
       "      <td>...</td>\n",
       "      <td>0.00</td>\n",
       "      <td>0.00</td>\n",
       "      <td>0.00</td>\n",
       "      <td>7.72</td>\n",
       "      <td>-10.15</td>\n",
       "      <td>-85.70</td>\n",
       "      <td>-78.73</td>\n",
       "      <td>0.04</td>\n",
       "      <td>0.32</td>\n",
       "      <td>1.280967</td>\n",
       "    </tr>\n",
       "  </tbody>\n",
       "</table>\n",
       "<p>7655 rows × 39 columns</p>\n",
       "</div>"
      ],
      "text/plain": [
       "       sID   buy_date  buy_price  sell_date  sell_price   season   A1     A2  \\\n",
       "0     1101 2020-01-02      44.10 2020-03-31       39.50  2020_Q1  0.0   1.24   \n",
       "1     1102 2020-01-02      48.90 2020-03-31       39.40  2020_Q1  0.0   0.67   \n",
       "2     1103 2020-01-02      22.35 2020-03-31       15.15  2020_Q1  0.0  -0.43   \n",
       "3     1104 2020-01-02      19.65 2020-03-31       15.80  2020_Q1  0.0   0.30   \n",
       "4     1108 2020-01-02       8.37 2020-03-31        6.31  2020_Q1  0.0   1.47   \n",
       "...    ...        ...        ...        ...         ...      ...  ...    ...   \n",
       "7650  9943 2017-10-02      50.10 2017-12-29       52.50  2017_Q4  0.0  11.03   \n",
       "7651  9944 2017-10-02      18.50 2017-12-29       19.60  2017_Q4  0.0   1.37   \n",
       "7652  9945 2017-10-02      28.30 2017-12-29       31.95  2017_Q4  0.0   0.99   \n",
       "7653  9946 2017-10-02      10.85 2017-12-29       12.75  2017_Q4  0.0   3.04   \n",
       "7654  9958 2017-10-02      16.55 2017-12-29       21.20  2017_Q4  0.0   0.34   \n",
       "\n",
       "         A3     A4  ...    C6    C7    C8     D1     D2      D3      D4    D5  \\\n",
       "0      2.15   0.96  ...  0.02  0.04  0.16  -1.34 -13.33  -11.38 -108.76 -0.02   \n",
       "1      1.22   0.38  ...  0.02  0.03  0.17  -0.08 -32.22  -46.49 -151.79  0.06   \n",
       "2     -0.72  -0.60  ...  0.00  0.01  0.06   1.45   9.50  183.93 -197.75  0.08   \n",
       "3      0.38   0.21  ...  0.02  0.04  0.14  -3.09   5.60  566.06 -205.50 -0.01   \n",
       "4      2.54   1.25  ...  0.12  0.10  0.43   3.09  32.41 -517.78 -734.99  0.00   \n",
       "...     ...    ...  ...   ...   ...   ...    ...    ...     ...     ...   ...   \n",
       "7650  13.14  15.24  ...  0.00  0.00  0.00   2.23  -0.81   -2.91   -0.69  0.01   \n",
       "7651   2.39   1.05  ...  0.00  0.00  0.00  -2.12  -7.86  -60.95  -46.44  0.00   \n",
       "7652   1.97  12.67  ...  0.00  0.00  0.00  44.89 -16.81  -43.94  318.11  0.34   \n",
       "7653   6.73   3.72  ...  0.00  0.00  0.00   5.60 -38.78  -32.34   -1.76  0.09   \n",
       "7654   0.83   0.76  ...  0.00  0.00  0.00   7.72 -10.15  -85.70  -78.73  0.04   \n",
       "\n",
       "       EPS    profit  \n",
       "0     0.53  0.895692  \n",
       "1     0.24  0.805726  \n",
       "2    -0.33  0.677852  \n",
       "3     0.07  0.804071  \n",
       "4     0.23  0.753883  \n",
       "...    ...       ...  \n",
       "7650  4.75  1.047904  \n",
       "7651  0.42  1.059459  \n",
       "7652  6.90  1.128975  \n",
       "7653  1.51  1.175115  \n",
       "7654  0.32  1.280967  \n",
       "\n",
       "[7655 rows x 39 columns]"
      ]
     },
     "execution_count": 17,
     "metadata": {},
     "output_type": "execute_result"
    }
   ],
   "source": [
    "data = pd.read_csv('ml.csv', index_col='Unnamed: 0', parse_dates=['buy_date', 'sell_date'])\n",
    "data = data.drop(columns = ['industry','avg'],axis = 1)\n",
    "data"
   ]
  },
  {
   "cell_type": "code",
   "execution_count": 18,
   "metadata": {},
   "outputs": [],
   "source": [
    "from sklearn.model_selection import train_test_split\n",
    "\n",
    "# clear data 將爛資料去掉\n",
    "data.dropna(how='any', inplace=True)\n",
    "\n",
    "# 選擇2019年以後的資料作為回測用\n",
    "dbacktest = data[data['buy_date'] > '2019']\n",
    "\n",
    "# 將其於的資料再分成兩類：dtrain 跟 dtest\n",
    "dataTrainTest = data[data['sell_date'] < '2019']\n",
    "dtrain, dtest = train_test_split(dataTrainTest, test_size=0.10, random_state=42)\n",
    "\n",
    "# 設定我們的feature要用哪些\n",
    "features = data.columns[6:-1]\n"
   ]
  },
  {
   "cell_type": "code",
   "execution_count": 12,
   "metadata": {},
   "outputs": [
    {
     "data": {
      "text/html": [
       "<div>\n",
       "<style scoped>\n",
       "    .dataframe tbody tr th:only-of-type {\n",
       "        vertical-align: middle;\n",
       "    }\n",
       "\n",
       "    .dataframe tbody tr th {\n",
       "        vertical-align: top;\n",
       "    }\n",
       "\n",
       "    .dataframe thead th {\n",
       "        text-align: right;\n",
       "    }\n",
       "</style>\n",
       "<table border=\"1\" class=\"dataframe\">\n",
       "  <thead>\n",
       "    <tr style=\"text-align: right;\">\n",
       "      <th></th>\n",
       "      <th>sID</th>\n",
       "      <th>profit</th>\n",
       "    </tr>\n",
       "  </thead>\n",
       "  <tbody>\n",
       "    <tr>\n",
       "      <th>0</th>\n",
       "      <td>1101</td>\n",
       "      <td>0.895692</td>\n",
       "    </tr>\n",
       "    <tr>\n",
       "      <th>1</th>\n",
       "      <td>1102</td>\n",
       "      <td>0.805726</td>\n",
       "    </tr>\n",
       "    <tr>\n",
       "      <th>2</th>\n",
       "      <td>1103</td>\n",
       "      <td>0.677852</td>\n",
       "    </tr>\n",
       "    <tr>\n",
       "      <th>3</th>\n",
       "      <td>1104</td>\n",
       "      <td>0.804071</td>\n",
       "    </tr>\n",
       "    <tr>\n",
       "      <th>4</th>\n",
       "      <td>1108</td>\n",
       "      <td>0.753883</td>\n",
       "    </tr>\n",
       "    <tr>\n",
       "      <th>...</th>\n",
       "      <td>...</td>\n",
       "      <td>...</td>\n",
       "    </tr>\n",
       "    <tr>\n",
       "      <th>3851</th>\n",
       "      <td>9943</td>\n",
       "      <td>1.108621</td>\n",
       "    </tr>\n",
       "    <tr>\n",
       "      <th>3852</th>\n",
       "      <td>9944</td>\n",
       "      <td>0.987730</td>\n",
       "    </tr>\n",
       "    <tr>\n",
       "      <th>3853</th>\n",
       "      <td>9945</td>\n",
       "      <td>1.049550</td>\n",
       "    </tr>\n",
       "    <tr>\n",
       "      <th>3854</th>\n",
       "      <td>9946</td>\n",
       "      <td>1.216000</td>\n",
       "    </tr>\n",
       "    <tr>\n",
       "      <th>3855</th>\n",
       "      <td>9958</td>\n",
       "      <td>1.211129</td>\n",
       "    </tr>\n",
       "  </tbody>\n",
       "</table>\n",
       "<p>3840 rows × 2 columns</p>\n",
       "</div>"
      ],
      "text/plain": [
       "       sID    profit\n",
       "0     1101  0.895692\n",
       "1     1102  0.805726\n",
       "2     1103  0.677852\n",
       "3     1104  0.804071\n",
       "4     1108  0.753883\n",
       "...    ...       ...\n",
       "3851  9943  1.108621\n",
       "3852  9944  0.987730\n",
       "3853  9945  1.049550\n",
       "3854  9946  1.216000\n",
       "3855  9958  1.211129\n",
       "\n",
       "[3840 rows x 2 columns]"
      ]
     },
     "execution_count": 12,
     "metadata": {},
     "output_type": "execute_result"
    }
   ],
   "source": [
    "dbacktest[['sID','profit']]"
   ]
  },
  {
   "cell_type": "code",
   "execution_count": 19,
   "metadata": {},
   "outputs": [],
   "source": [
    "from sklearn import preprocessing\n",
    "dtrain_normalized = preprocessing.normalize(dtrain[features], norm='l2')\n",
    "dtest_normalized = preprocessing.normalize(dtest[features], norm='l2')\n",
    "dbacktest_normalized = preprocessing.normalize(dbacktest[features], norm='l2')"
   ]
  },
  {
   "cell_type": "code",
   "execution_count": 24,
   "metadata": {},
   "outputs": [
    {
     "data": {
      "image/png": "[encoded data removed]",
      "text/plain": [
       "<Figure size 432x288 with 1 Axes>"
      ]
     },
     "metadata": {
      "needs_background": "light"
     },
     "output_type": "display_data"
    }
   ],
   "source": [
    "from sklearn.ensemble import RandomForestClassifier\n",
    "import random\n",
    "\n",
    "# 創建機器學習的model\n",
    "y_eff = []\n",
    "for i in range(20):\n",
    "    rf = RandomForestClassifier(n_estimators=10, criterion='gini', \n",
    "                                max_depth=i+1, min_samples_split=2, \n",
    "                                min_samples_leaf=1, min_weight_fraction_leaf=0.0, \n",
    "                                max_features='auto', max_leaf_nodes=None, \n",
    "                                bootstrap=True, oob_score=False, n_jobs=1, \n",
    "                                random_state=0, verbose=0, warm_start=False, \n",
    "                                class_weight=None)\n",
    "    random.seed(10)\n",
    "    tree_clf = rf.fit(dtrain_normalized,dtrain['profit'] > 1)\n",
    "    score = rf.score(dtest_normalized,dtest['profit'] > 1)\n",
    "    y_eff.append(score)\n",
    "    \n",
    "plt.plot(range(1,21),y_eff,color=\"red\",label=\"max_depth\")\n",
    "plt.legend()\n",
    "'''http://www.taroballz.com/2019/05/15/ML_decision_tree_detail/'''\n",
    "plt.show()\n",
    "\n",
    "# 分類能獲利的股票\n",
    "# 用 normalised data train model\n",
    "# rf.fit(dtrain_normalized, dtrain['profit'] > 1)"
   ]
  },
  {
   "cell_type": "code",
   "execution_count": 25,
   "metadata": {},
   "outputs": [
    {
     "data": {
      "text/html": [
       "<div>\n",
       "<style scoped>\n",
       "    .dataframe tbody tr th:only-of-type {\n",
       "        vertical-align: middle;\n",
       "    }\n",
       "\n",
       "    .dataframe tbody tr th {\n",
       "        vertical-align: top;\n",
       "    }\n",
       "\n",
       "    .dataframe thead th {\n",
       "        text-align: right;\n",
       "    }\n",
       "</style>\n",
       "<table border=\"1\" class=\"dataframe\">\n",
       "  <thead>\n",
       "    <tr style=\"text-align: right;\">\n",
       "      <th></th>\n",
       "      <th>0</th>\n",
       "    </tr>\n",
       "  </thead>\n",
       "  <tbody>\n",
       "    <tr>\n",
       "      <th>0</th>\n",
       "      <td>0.678100</td>\n",
       "    </tr>\n",
       "    <tr>\n",
       "      <th>1</th>\n",
       "      <td>0.678100</td>\n",
       "    </tr>\n",
       "    <tr>\n",
       "      <th>2</th>\n",
       "      <td>0.680739</td>\n",
       "    </tr>\n",
       "    <tr>\n",
       "      <th>3</th>\n",
       "      <td>0.675462</td>\n",
       "    </tr>\n",
       "    <tr>\n",
       "      <th>4</th>\n",
       "      <td>0.680739</td>\n",
       "    </tr>\n",
       "    <tr>\n",
       "      <th>5</th>\n",
       "      <td>0.691293</td>\n",
       "    </tr>\n",
       "    <tr>\n",
       "      <th>6</th>\n",
       "      <td>0.691293</td>\n",
       "    </tr>\n",
       "    <tr>\n",
       "      <th>7</th>\n",
       "      <td>0.678100</td>\n",
       "    </tr>\n",
       "    <tr>\n",
       "      <th>8</th>\n",
       "      <td>0.683377</td>\n",
       "    </tr>\n",
       "    <tr>\n",
       "      <th>9</th>\n",
       "      <td>0.699208</td>\n",
       "    </tr>\n",
       "    <tr>\n",
       "      <th>10</th>\n",
       "      <td>0.688654</td>\n",
       "    </tr>\n",
       "    <tr>\n",
       "      <th>11</th>\n",
       "      <td>0.701847</td>\n",
       "    </tr>\n",
       "    <tr>\n",
       "      <th>12</th>\n",
       "      <td>0.688654</td>\n",
       "    </tr>\n",
       "    <tr>\n",
       "      <th>13</th>\n",
       "      <td>0.709763</td>\n",
       "    </tr>\n",
       "    <tr>\n",
       "      <th>14</th>\n",
       "      <td>0.707124</td>\n",
       "    </tr>\n",
       "    <tr>\n",
       "      <th>15</th>\n",
       "      <td>0.699208</td>\n",
       "    </tr>\n",
       "    <tr>\n",
       "      <th>16</th>\n",
       "      <td>0.715040</td>\n",
       "    </tr>\n",
       "    <tr>\n",
       "      <th>17</th>\n",
       "      <td>0.728232</td>\n",
       "    </tr>\n",
       "    <tr>\n",
       "      <th>18</th>\n",
       "      <td>0.709763</td>\n",
       "    </tr>\n",
       "    <tr>\n",
       "      <th>19</th>\n",
       "      <td>0.696570</td>\n",
       "    </tr>\n",
       "  </tbody>\n",
       "</table>\n",
       "</div>"
      ],
      "text/plain": [
       "           0\n",
       "0   0.678100\n",
       "1   0.678100\n",
       "2   0.680739\n",
       "3   0.675462\n",
       "4   0.680739\n",
       "5   0.691293\n",
       "6   0.691293\n",
       "7   0.678100\n",
       "8   0.683377\n",
       "9   0.699208\n",
       "10  0.688654\n",
       "11  0.701847\n",
       "12  0.688654\n",
       "13  0.709763\n",
       "14  0.707124\n",
       "15  0.699208\n",
       "16  0.715040\n",
       "17  0.728232\n",
       "18  0.709763\n",
       "19  0.696570"
      ]
     },
     "execution_count": 25,
     "metadata": {},
     "output_type": "execute_result"
    }
   ],
   "source": [
    "y_eff = pd.DataFrame(y_eff)\n",
    "y_eff"
   ]
  },
  {
   "cell_type": "code",
   "execution_count": 18,
   "metadata": {},
   "outputs": [],
   "source": [
    "estimator_limited_5 = rf.estimators_[5]"
   ]
  },
  {
   "cell_type": "code",
   "execution_count": 19,
   "metadata": {},
   "outputs": [],
   "source": [
    "estimator_limited_3 = rf.estimators_[3]"
   ]
  },
  {
   "cell_type": "code",
   "execution_count": 71,
   "metadata": {},
   "outputs": [
    {
     "data": {
      "text/plain": [
       "array(['A1', 'A2', 'A3', 'A4', 'A5', 'A6', 'A7', 'A8', 'A9', 'B1', 'B2',\n",
       "       'B3', 'B4', 'B5', 'B6', 'B7', 'B8', 'B9', 'C1', 'C2', 'C3', 'C4',\n",
       "       'C5', 'C6', 'C7', 'C8', 'D1', 'D2', 'D3', 'D4', 'D5', 'EPS'],\n",
       "      dtype=object)"
      ]
     },
     "execution_count": 71,
     "metadata": {},
     "output_type": "execute_result"
    }
   ],
   "source": [
    "dtrain[features].columns.values"
   ]
  },
  {
   "cell_type": "code",
   "execution_count": 89,
   "metadata": {},
   "outputs": [],
   "source": [
    "# https://www.kaggle.com/willkoehrsen/visualize-a-decision-tree-w-python-scikit-learn\n",
    "from sklearn.tree import export_graphviz\n",
    "\n",
    "export_graphviz(estimator_limited_3, out_file='tree_limited_3_normalise.dot', feature_names = dtrain[features].columns.values,\n",
    "                class_names = np.array(['True','False']),\n",
    "                rounded = True, proportion = False, precision = 2, filled = True)"
   ]
  },
  {
   "cell_type": "code",
   "execution_count": 21,
   "metadata": {},
   "outputs": [
    {
     "name": "stdout",
     "output_type": "stream",
     "text": [
      "test data\n",
      "gain before filtered 0.9793892448108161\n",
      "gain after filtered 1.0307565326413022\n",
      "num stocks 74 / 379\n",
      "backtest data\n",
      "gain before filtered 0.9890141804032317\n",
      "gain after filtered 0.9853439667582728\n",
      "num stocks 809 / 3840\n"
     ]
    }
   ],
   "source": [
    "result = rf.predict(dtest_normalized)\n",
    "\n",
    "print('test data')\n",
    "print('gain before filtered', dtest['profit'].mean())\n",
    "print('gain after filtered', dtest['profit'][result].mean())\n",
    "print('num stocks', sum(result), '/', len(dtest))\n",
    "\n",
    "result = rf.predict(dbacktest[features])\n",
    "\n",
    "print('backtest data')\n",
    "print('gain before filtered', dbacktest['profit'].mean())\n",
    "print('gain after filtered', dbacktest['profit'][result].mean())\n",
    "print('num stocks', sum(result), '/', len(dbacktest))"
   ]
  },
  {
   "cell_type": "code",
   "execution_count": 22,
   "metadata": {},
   "outputs": [
    {
     "name": "stderr",
     "output_type": "stream",
     "text": [
      "<ipython-input-22-5d93385a2048>:3: SettingWithCopyWarning: \n",
      "A value is trying to be set on a copy of a slice from a DataFrame.\n",
      "Try using .loc[row_indexer,col_indexer] = value instead\n",
      "\n",
      "See the caveats in the documentation: https://pandas.pydata.org/pandas-docs/stable/user_guide/indexing.html#returning-a-view-versus-a-copy\n",
      "  dbacktest['prediction'] = pd.Series(result, index=dbacktest.index)\n"
     ]
    },
    {
     "data": {
      "text/plain": [
       "<matplotlib.axes._subplots.AxesSubplot at 0x28c860caa90>"
      ]
     },
     "execution_count": 22,
     "metadata": {},
     "output_type": "execute_result"
    },
    {
     "data": {
      "image/png": "[encoded data removed]",
      "text/plain": [
       "<Figure size 432x288 with 1 Axes>"
      ]
     },
     "metadata": {
      "needs_background": "light"
     },
     "output_type": "display_data"
    }
   ],
   "source": [
    "%matplotlib inline\n",
    "\n",
    "dbacktest['prediction'] = pd.Series(result, index=dbacktest.index)\n",
    "dates = list(set(dbacktest['buy_date']))\n",
    "dates.sort()\n",
    "\n",
    "\n",
    "history = []\n",
    "for d in dates:\n",
    "    history.append(dbacktest[(dbacktest['buy_date'] == d) & (dbacktest['prediction'])]['profit'].mean())\n",
    "    \n",
    "pd.Series(history, index=dates).cumprod().plot()"
   ]
  },
  {
   "cell_type": "code",
   "execution_count": 28,
   "metadata": {},
   "outputs": [
    {
     "data": {
      "image/png": "[encoded data removed]",
      "text/plain": [
       "<Figure size 432x288 with 1 Axes>"
      ]
     },
     "metadata": {
      "needs_background": "light"
     },
     "output_type": "display_data"
    }
   ],
   "source": [
    "# 引入模組\n",
    "import numpy as np\n",
    "import pandas as pd\n",
    "import matplotlib.pyplot as plt\n",
    "\n",
    "plt.title('Normalized Random forest')\n",
    "plt.xlabel('Date')\n",
    "plt.ylabel('Cumulative Profit')\n",
    "# plt.figtext(0.995, 0.01, 'CopyRight', ha='right', va='bottom')\n",
    "# 避免被圖表元素被蓋住\n",
    "plt.tight_layout()\n",
    "plt.plot(list(pd.Series(history, index=dates).cumprod().index), pd.Series(history, index=dates).cumprod())\n",
    "plt.xticks(rotation=45)\n",
    "plt.savefig('profit_ptedict_normalizedata_performance.png')\n",
    "plt.show()"
   ]
  },
  {
   "cell_type": "code",
   "execution_count": 49,
   "metadata": {},
   "outputs": [
    {
     "data": {
      "text/plain": [
       "[1.1425715184144136,\n",
       " 1.0091454945138596,\n",
       " 1.0050835197227663,\n",
       " 1.0995550612389944,\n",
       " 0.8348566355957191]"
      ]
     },
     "execution_count": 49,
     "metadata": {},
     "output_type": "execute_result"
    }
   ],
   "source": [
    "history"
   ]
  },
  {
   "cell_type": "code",
   "execution_count": 51,
   "metadata": {},
   "outputs": [
    {
     "data": {
      "text/plain": [
       "[Timestamp('2019-01-02 00:00:00'),\n",
       " Timestamp('2019-04-01 00:00:00'),\n",
       " Timestamp('2019-07-01 00:00:00'),\n",
       " Timestamp('2019-10-01 00:00:00'),\n",
       " Timestamp('2020-01-02 00:00:00')]"
      ]
     },
     "execution_count": 51,
     "metadata": {},
     "output_type": "execute_result"
    }
   ],
   "source": [
    "list(pd.Series(history, index=dates).cumprod().index)"
   ]
  },
  {
   "cell_type": "code",
   "execution_count": 38,
   "metadata": {},
   "outputs": [
    {
     "data": {
      "text/plain": [
       "[Timestamp('2019-01-02 00:00:00'),\n",
       " Timestamp('2019-07-01 00:00:00'),\n",
       " Timestamp('2019-04-01 00:00:00'),\n",
       " Timestamp('2020-01-02 00:00:00'),\n",
       " Timestamp('2019-10-01 00:00:00')]"
      ]
     },
     "execution_count": 38,
     "metadata": {},
     "output_type": "execute_result"
    }
   ],
   "source": [
    "list(set(dbacktest['buy_date']))\n",
    "# dbacktest['buy_date'].drop_duplicates()"
   ]
  },
  {
   "cell_type": "code",
   "execution_count": 25,
   "metadata": {},
   "outputs": [
    {
     "data": {
      "text/plain": [
       "array([0.        , 0.0435837 , 0.03957496, 0.03445902, 0.02864344,\n",
       "       0.03222651, 0.03292968, 0.04086644, 0.03247033, 0.03604804,\n",
       "       0.03446687, 0.02642478, 0.03892678, 0.0362598 , 0.03074023,\n",
       "       0.        , 0.        , 0.03019085, 0.03420649, 0.        ,\n",
       "       0.03017915, 0.03761276, 0.04281894, 0.02130259, 0.02906215,\n",
       "       0.03130816, 0.03792186, 0.03931149, 0.0526474 , 0.05611183,\n",
       "       0.0365035 , 0.03320224])"
      ]
     },
     "execution_count": 25,
     "metadata": {},
     "output_type": "execute_result"
    }
   ],
   "source": [
    "feature"
   ]
  },
  {
   "cell_type": "code",
   "execution_count": 47,
   "metadata": {},
   "outputs": [],
   "source": [
    "features_df = pd.DataFrame(features)\n",
    "feature_df = pd.DataFrame(feature)\n",
    "feature_df = pd.concat([features_df,feature_df], axis = 1)\n",
    "feature_df.columns = ['index', 'feature importances']\n",
    "# feature_df"
   ]
  },
  {
   "cell_type": "code",
   "execution_count": 46,
   "metadata": {},
   "outputs": [
    {
     "data": {
      "image/png": "[encoded data removed]",
      "text/plain": [
       "<Figure size 864x576 with 1 Axes>"
      ]
     },
     "metadata": {
      "needs_background": "light"
     },
     "output_type": "display_data"
    }
   ],
   "source": [
    "feature = rf.feature_importances_\n",
    "\n",
    "feature_series = pd.Series(feature)\n",
    "\n",
    "plt.figure(figsize = (12,8))\n",
    "ax = feature_series.plot(kind = 'bar')\n",
    "ax.set_title('Random forest feature importances')\n",
    "ax.set_xlabel('Index')\n",
    "ax.set_ylabel('Importances')\n",
    "ax.set_xticklabels(features)\n",
    "\n",
    "rects = ax.patches\n",
    "labels = [round(i,3) for i in list(feature)]\n",
    "\n",
    "\n",
    "for rect, label in zip(rects,labels):\n",
    "    height = rect.get_height()\n",
    "    ax.text(rect.get_x() + rect.get_width()/2, height, label,\n",
    "           ha = 'center', va = 'bottom')\n",
    "\n",
    "plt.savefig('Feature_importances.png')\n",
    "# plt.plot(features,feature)\n"
   ]
  }
 ],
 "metadata": {
  "kernelspec": {
   "display_name": "Python 3",
   "language": "python",
   "name": "python3"
  },
  "language_info": {
   "codemirror_mode": {
    "name": "ipython",
    "version": 3
   },
   "file_extension": ".py",
   "mimetype": "text/x-python",
   "name": "python",
   "nbconvert_exporter": "python",
   "pygments_lexer": "ipython3",
   "version": "3.8.3"
  }
 },
 "nbformat": 4,
 "nbformat_minor": 4
}
